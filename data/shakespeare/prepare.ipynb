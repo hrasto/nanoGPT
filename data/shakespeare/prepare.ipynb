{
 "cells": [
  {
   "cell_type": "code",
   "execution_count": 1,
   "metadata": {},
   "outputs": [],
   "source": [
    "\"\"\"\n",
    "Prepare the Shakespeare dataset for character-level language modeling.\n",
    "So instead of encoding with GPT-2 BPE tokens, we just map characters to ints.\n",
    "Will save train.bin, val.bin containing the ids, and meta.pkl containing the\n",
    "encoder and decoder and some other related info.\n",
    "\"\"\"\n",
    "import os\n",
    "import pickle\n",
    "import requests\n",
    "import numpy as np\n",
    "import segutil\n",
    "import itertools\n",
    "import tiktoken"
   ]
  },
  {
   "cell_type": "code",
   "execution_count": 2,
   "metadata": {},
   "outputs": [],
   "source": [
    "__file__='/Users/rastislavhronsky/ML-research/nanoGPT/data/shakespeare/prepare.py'"
   ]
  },
  {
   "cell_type": "code",
   "execution_count": 3,
   "metadata": {},
   "outputs": [
    {
     "name": "stdout",
     "output_type": "stream",
     "text": [
      "length of dataset in characters: 1,115,394\n"
     ]
    }
   ],
   "source": [
    "# download the tiny shakespeare dataset\n",
    "input_file_path = os.path.join(os.path.dirname(__file__), 'input.txt')\n",
    "if not os.path.exists(input_file_path):\n",
    "    data_url = 'https://raw.githubusercontent.com/karpathy/char-rnn/master/data/tinyshakespeare/input.txt'\n",
    "    with open(input_file_path, 'w') as f:\n",
    "        f.write(requests.get(data_url).text)\n",
    "\n",
    "with open(input_file_path, 'r') as f:\n",
    "    data = f.read()\n",
    "print(f\"length of dataset in characters: {len(data):,}\")\n"
   ]
  },
  {
   "cell_type": "code",
   "execution_count": 4,
   "metadata": {},
   "outputs": [],
   "source": [
    "train_size = .9\n",
    "data_train = data[:int(len(data)*train_size)]\n",
    "data_test = data[int(len(data)*train_size):]"
   ]
  },
  {
   "cell_type": "code",
   "execution_count": 5,
   "metadata": {},
   "outputs": [],
   "source": [
    "gptenc = tiktoken.get_encoding(\"gpt2\")"
   ]
  },
  {
   "cell_type": "code",
   "execution_count": 6,
   "metadata": {},
   "outputs": [],
   "source": [
    "tiktoken_train = gptenc.encode_ordinary(data_train)\n",
    "tiktoken_train = gptenc.decode_batch([[el] for el in tiktoken_train])\n",
    "tiktoken_test = gptenc.encode_ordinary(data_test)\n",
    "tiktoken_test = gptenc.decode_batch([[el] for el in tiktoken_test])\n",
    "tiktoken_seg_train = [(i, len(w)) for i, w in enumerate(tiktoken_train)]\n",
    "tiktoken_seg_test = [(i, len(w)) for i, w in enumerate(tiktoken_test)]\n",
    "char_seg_train = [(i, 1) for i in range(len(data_train))]\n",
    "char_seg_test = [(i, 1) for i in range(len(data_test))]"
   ]
  },
  {
   "cell_type": "code",
   "execution_count": 8,
   "metadata": {},
   "outputs": [],
   "source": [
    "block_size = 256\n",
    "block_seg_train = [(i, len(batch)) for i, batch in enumerate(itertools.batched(data_train, block_size))]\n",
    "block_seg_test = [(i, len(batch)) for i, batch in enumerate(itertools.batched(data_test, block_size))]"
   ]
  },
  {
   "cell_type": "code",
   "execution_count": 9,
   "metadata": {},
   "outputs": [],
   "source": [
    "cps_train = segutil.Corpus(data_train, segmentation={'char': char_seg_train, \n",
    "                                                     'tiktoken': tiktoken_seg_train, \n",
    "                                                     'block': block_seg_train},)\n",
    "cps_test = segutil.Corpus(data_test, segmentation={'char': char_seg_test, \n",
    "                                                     'tiktoken': tiktoken_seg_test, \n",
    "                                                     'block': block_seg_test},)"
   ]
  },
  {
   "cell_type": "code",
   "execution_count": 10,
   "metadata": {},
   "outputs": [],
   "source": [
    "cps_train.save('cps_train.pkl')\n",
    "cps_test.save('cps_test.pkl')"
   ]
  },
  {
   "cell_type": "code",
   "execution_count": 8,
   "metadata": {},
   "outputs": [
    {
     "name": "stdout",
     "output_type": "stream",
     "text": [
      "char vocab size:  66\n"
     ]
    }
   ],
   "source": [
    "pad_token = '<PAD>'\n",
    "\n",
    "vocab_char = segutil.build_vocab(data_train, sort_by='alpha', unk_token=None)\n",
    "vocab_char.add_type(pad_token)\n",
    "print('char vocab size: ', len(vocab_char))"
   ]
  },
  {
   "cell_type": "code",
   "execution_count": 9,
   "metadata": {},
   "outputs": [
    {
     "name": "stdout",
     "output_type": "stream",
     "text": [
      "tiktoken vocab size:  50258\n"
     ]
    }
   ],
   "source": [
    "gpt_types = gptenc.decode_tokens_bytes(list(range(gptenc.n_vocab)))\n",
    "gpt_vocab = segutil.build_vocab(gpt_types, sort_by='dont', unk_token=None)\n",
    "gpt_vocab.add_type(pad_token)\n",
    "print('tiktoken vocab size: ', len(gpt_vocab))"
   ]
  },
  {
   "cell_type": "code",
   "execution_count": 10,
   "metadata": {},
   "outputs": [],
   "source": [
    "vocab_char.save('vocab_char.pkl')\n",
    "gpt_vocab.save('vocab_gpt.pkl')"
   ]
  },
  {
   "cell_type": "code",
   "execution_count": null,
   "metadata": {},
   "outputs": [],
   "source": []
  }
 ],
 "metadata": {
  "kernelspec": {
   "display_name": "ML12",
   "language": "python",
   "name": "python3"
  },
  "language_info": {
   "codemirror_mode": {
    "name": "ipython",
    "version": 3
   },
   "file_extension": ".py",
   "mimetype": "text/x-python",
   "name": "python",
   "nbconvert_exporter": "python",
   "pygments_lexer": "ipython3",
   "version": "3.12.2"
  }
 },
 "nbformat": 4,
 "nbformat_minor": 2
}
