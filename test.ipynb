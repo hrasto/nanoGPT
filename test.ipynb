{
 "cells": [
  {
   "cell_type": "code",
   "execution_count": 32,
   "metadata": {},
   "outputs": [],
   "source": [
    "import pickle\n",
    "import numpy as np\n",
    "import itertools\n",
    "import time\n",
    "import torch\n",
    "import os\n",
    "import segutil"
   ]
  },
  {
   "cell_type": "code",
   "execution_count": 1,
   "metadata": {},
   "outputs": [],
   "source": [
    "import tiktoken\n",
    "gptenc = tiktoken.get_encoding('gpt2')"
   ]
  },
  {
   "cell_type": "code",
   "execution_count": 2,
   "metadata": {},
   "outputs": [],
   "source": [
    "sent = \"First Citizen:\\nBefore we proceed any further, hear me speak.\""
   ]
  },
  {
   "cell_type": "code",
   "execution_count": 5,
   "metadata": {},
   "outputs": [],
   "source": [
    "from bertviz import model_view"
   ]
  },
  {
   "cell_type": "code",
   "execution_count": 6,
   "metadata": {},
   "outputs": [],
   "source": [
    "import model"
   ]
  },
  {
   "cell_type": "code",
   "execution_count": 53,
   "metadata": {},
   "outputs": [
    {
     "data": {
      "text/plain": [
       "<module 'model' from '/Users/rastislavhronsky/ML-research/nanoGPT/model.py'>"
      ]
     },
     "execution_count": 53,
     "metadata": {},
     "output_type": "execute_result"
    }
   ],
   "source": [
    "import importlib\n",
    "importlib.reload(model)"
   ]
  },
  {
   "cell_type": "code",
   "execution_count": 54,
   "metadata": {},
   "outputs": [
    {
     "name": "stdout",
     "output_type": "stream",
     "text": [
      "number of parameters: 1.18M\n"
     ]
    }
   ],
   "source": [
    "class Config:\n",
    "    vocab_size=10\n",
    "    block_size=9\n",
    "    n_layer = 6\n",
    "    n_head = 8\n",
    "    n_embd = 128\n",
    "    dropout = 0.0 # for pretraining 0 is good, for finetuning try 0.1+\n",
    "    bias = False # do we use bias inside LayerNorm and Linear layers?\n",
    "    force_no_flash=True\n",
    "config = Config()\n",
    "\n",
    "block = model.GPT(config)\n",
    "x = torch.randint(0,config.vocab_size,(16,config.block_size))"
   ]
  },
  {
   "cell_type": "code",
   "execution_count": 55,
   "metadata": {},
   "outputs": [],
   "source": [
    "logits, att, loss = block(x)"
   ]
  },
  {
   "cell_type": "code",
   "execution_count": 60,
   "metadata": {},
   "outputs": [
    {
     "data": {
      "text/plain": [
       "tensor([[1.0000, 0.0000, 0.0000, 0.0000, 0.0000, 0.0000, 0.0000, 0.0000, 0.0000],\n",
       "        [0.5264, 0.4736, 0.0000, 0.0000, 0.0000, 0.0000, 0.0000, 0.0000, 0.0000],\n",
       "        [0.3273, 0.3516, 0.3211, 0.0000, 0.0000, 0.0000, 0.0000, 0.0000, 0.0000],\n",
       "        [0.2362, 0.2652, 0.2504, 0.2481, 0.0000, 0.0000, 0.0000, 0.0000, 0.0000],\n",
       "        [0.1882, 0.2037, 0.2002, 0.2084, 0.1995, 0.0000, 0.0000, 0.0000, 0.0000],\n",
       "        [0.1478, 0.1771, 0.1561, 0.1727, 0.1715, 0.1746, 0.0000, 0.0000, 0.0000],\n",
       "        [0.1369, 0.1504, 0.1396, 0.1431, 0.1351, 0.1451, 0.1498, 0.0000, 0.0000],\n",
       "        [0.1095, 0.1381, 0.1291, 0.1306, 0.1253, 0.1350, 0.1181, 0.1143, 0.0000],\n",
       "        [0.1068, 0.1115, 0.1070, 0.1133, 0.1151, 0.1173, 0.1072, 0.1122, 0.1095]])"
      ]
     },
     "execution_count": 60,
     "metadata": {},
     "output_type": "execute_result"
    }
   ],
   "source": [
    "att[0,0,0]"
   ]
  },
  {
   "cell_type": "code",
   "execution_count": 17,
   "metadata": {},
   "outputs": [
    {
     "data": {
      "text/plain": [
       "True"
      ]
     },
     "execution_count": 17,
     "metadata": {},
     "output_type": "execute_result"
    }
   ],
   "source": [
    "import torch\n",
    "hasattr(torch.nn.functional, 'scaled_dot_product_attention')"
   ]
  },
  {
   "cell_type": "code",
   "execution_count": 63,
   "metadata": {},
   "outputs": [
    {
     "data": {
      "text/plain": [
       "['0', '1', '2', '3', '4', '5', '6', '7', '8', '9']"
      ]
     },
     "execution_count": 63,
     "metadata": {},
     "output_type": "execute_result"
    }
   ],
   "source": [
    "list(map(str, range(10)))"
   ]
  },
  {
   "cell_type": "code",
   "execution_count": 67,
   "metadata": {},
   "outputs": [
    {
     "data": {
      "text/plain": [
       "torch.Size([1, 8, 9, 9])"
      ]
     },
     "execution_count": 67,
     "metadata": {},
     "output_type": "execute_result"
    }
   ],
   "source": [
    "att[:1, 0].shape"
   ]
  },
  {
   "cell_type": "code",
   "execution_count": 70,
   "metadata": {},
   "outputs": [
    {
     "data": {
      "text/html": [
       "<script src=\"https://cdnjs.cloudflare.com/ajax/libs/require.js/2.3.6/require.min.js\"></script>"
      ],
      "text/plain": [
       "<IPython.core.display.HTML object>"
      ]
     },
     "metadata": {},
     "output_type": "display_data"
    },
    {
     "data": {
      "text/html": [
       "      \n",
       "        <div id=\"bertviz-530c9030cd2c40c0bbc99d0d703f9861\" style=\"font-family:'Helvetica Neue', Helvetica, Arial, sans-serif;\">\n",
       "            <span style=\"user-select:none\">\n",
       "                \n",
       "            </span>\n",
       "            <div id='vis'></div>\n",
       "        </div>\n",
       "    "
      ],
      "text/plain": [
       "<IPython.core.display.HTML object>"
      ]
     },
     "metadata": {},
     "output_type": "display_data"
    },
    {
     "data": {
      "application/javascript": "/**\n * @fileoverview Transformer Visualization D3 javascript code.\n *\n * Based on: https://github.com/tensorflow/tensor2tensor/blob/master/tensor2tensor/visualization/attention.js\n *\n * Change log:\n *\n * 02/01/19  Jesse Vig   Initial implementation\n * 12/31/20  Jesse Vig   Support multiple visualizations in single notebook.\n * 01/19/21  Jesse Vig   Support light/dark modes\n * 02/06/21  Jesse Vig   Move require config from separate jupyter notebook step\n * 05/03/21  Jesse Vig   Adjust visualization height dynamically\n * 03/23/22  Daniel SC   Update requirement URLs for d3 and jQuery (source of bug not allowing end result to be displayed on browsers)\n **/\n\nrequire.config({\n  paths: {\n      d3: 'https://cdnjs.cloudflare.com/ajax/libs/d3/5.7.0/d3.min',\n    jquery: 'https://cdnjs.cloudflare.com/ajax/libs/jquery/2.0.0/jquery.min',\n  }\n});\n\nrequirejs(['jquery', 'd3'], function($, d3) {\n\n        const params = {\"attention\": [{\"name\": null, \"attn\": [[[[1.0, 0.0, 0.0, 0.0, 0.0, 0.0, 0.0, 0.0, 0.0], [0.5264369249343872, 0.47356313467025757, 0.0, 0.0, 0.0, 0.0, 0.0, 0.0, 0.0], [0.3272859454154968, 0.3516283929347992, 0.321085661649704, 0.0, 0.0, 0.0, 0.0, 0.0, 0.0], [0.23624861240386963, 0.26521435379981995, 0.250397264957428, 0.24813972413539886, 0.0, 0.0, 0.0, 0.0, 0.0], [0.18821074068546295, 0.20369863510131836, 0.20024451613426208, 0.20836381614208221, 0.1994822770357132, 0.0, 0.0, 0.0, 0.0], [0.14784272015094757, 0.17710469663143158, 0.15613581240177155, 0.17273610830307007, 0.17153401672840118, 0.17464664578437805, 0.0, 0.0, 0.0], [0.13692328333854675, 0.15038038790225983, 0.13964268565177917, 0.14309069514274597, 0.13512848317623138, 0.14507941901683807, 0.14975494146347046, 0.0, 0.0], [0.10953576117753983, 0.1380876898765564, 0.12912054359912872, 0.1305502951145172, 0.1253024786710739, 0.1349557489156723, 0.11810729652643204, 0.11434013396501541, 0.0], [0.1068250834941864, 0.11148020625114441, 0.10700084269046783, 0.1133260726928711, 0.11507903039455414, 0.11728863418102264, 0.10723095387220383, 0.11224250495433807, 0.10952670872211456]], [[1.0, 0.0, 0.0, 0.0, 0.0, 0.0, 0.0, 0.0, 0.0], [0.5300877094268799, 0.4699123203754425, 0.0, 0.0, 0.0, 0.0, 0.0, 0.0, 0.0], [0.34527450799942017, 0.3256993591785431, 0.32902610301971436, 0.0, 0.0, 0.0, 0.0, 0.0, 0.0], [0.265036404132843, 0.24451223015785217, 0.2492266744375229, 0.24122464656829834, 0.0, 0.0, 0.0, 0.0, 0.0], [0.2038252055644989, 0.2015160769224167, 0.20007716119289398, 0.1946125626564026, 0.19996897876262665, 0.0, 0.0, 0.0, 0.0], [0.17391660809516907, 0.17557182908058167, 0.16989018023014069, 0.1656796783208847, 0.15984708070755005, 0.15509453415870667, 0.0, 0.0, 0.0], [0.15773795545101166, 0.14014418423175812, 0.14823748171329498, 0.1402737945318222, 0.13655322790145874, 0.1262546330690384, 0.15079878270626068, 0.0, 0.0], [0.12658008933067322, 0.1323663741350174, 0.12548419833183289, 0.12421925365924835, 0.12353590130805969, 0.12223047018051147, 0.11669017374515533, 0.1288936287164688, 0.0], [0.11692911386489868, 0.1064705103635788, 0.11497639119625092, 0.10932023078203201, 0.10672459751367569, 0.10634925216436386, 0.11356943100690842, 0.11373266577720642, 0.11192778497934341]], [[1.0, 0.0, 0.0, 0.0, 0.0, 0.0, 0.0, 0.0, 0.0], [0.49471208453178406, 0.5052878856658936, 0.0, 0.0, 0.0, 0.0, 0.0, 0.0, 0.0], [0.35693663358688354, 0.31227701902389526, 0.3307862877845764, 0.0, 0.0, 0.0, 0.0, 0.0, 0.0], [0.255873441696167, 0.23392891883850098, 0.24848701059818268, 0.26171061396598816, 0.0, 0.0, 0.0, 0.0, 0.0], [0.2019766867160797, 0.20252883434295654, 0.200914666056633, 0.20164750516414642, 0.1929323375225067, 0.0, 0.0, 0.0, 0.0], [0.1789722740650177, 0.15733441710472107, 0.17452062666416168, 0.17027205228805542, 0.1560855656862259, 0.16281504929065704, 0.0, 0.0, 0.0], [0.14171873033046722, 0.15194272994995117, 0.1522650271654129, 0.13806483149528503, 0.13777533173561096, 0.1367700845003128, 0.14146332442760468, 0.0, 0.0], [0.11956728249788284, 0.1247325912117958, 0.12487398833036423, 0.12221664935350418, 0.12987346947193146, 0.1269283890724182, 0.13002155721187592, 0.12178602814674377, 0.0], [0.10681169480085373, 0.11145339906215668, 0.11852461099624634, 0.11466444283723831, 0.10684031248092651, 0.10585648566484451, 0.11432082206010818, 0.10976824164390564, 0.11175995320081711]], [[1.0, 0.0, 0.0, 0.0, 0.0, 0.0, 0.0, 0.0, 0.0], [0.4874126613140106, 0.512587308883667, 0.0, 0.0, 0.0, 0.0, 0.0, 0.0, 0.0], [0.3353458344936371, 0.33327043056488037, 0.33138376474380493, 0.0, 0.0, 0.0, 0.0, 0.0, 0.0], [0.24268819391727448, 0.257353276014328, 0.2492976039648056, 0.25066089630126953, 0.0, 0.0, 0.0, 0.0, 0.0], [0.19072900712490082, 0.19837476313114166, 0.19328342378139496, 0.2080085575580597, 0.20960427820682526, 0.0, 0.0, 0.0, 0.0], [0.1692652404308319, 0.14844578504562378, 0.1643870770931244, 0.17805534601211548, 0.16467486321926117, 0.17517174780368805, 0.0, 0.0, 0.0], [0.1434617042541504, 0.13840851187705994, 0.15173906087875366, 0.13926434516906738, 0.13864126801490784, 0.1408354640007019, 0.14764966070652008, 0.0, 0.0], [0.11998387426137924, 0.11767473071813583, 0.1284530758857727, 0.12479473650455475, 0.13242067396640778, 0.12792213261127472, 0.12757542729377747, 0.12117534875869751, 0.0], [0.11041709780693054, 0.1157146692276001, 0.10824471712112427, 0.10505721718072891, 0.11304350197315216, 0.11257916688919067, 0.11435019224882126, 0.10716035217046738, 0.11343315243721008]], [[1.0, 0.0, 0.0, 0.0, 0.0, 0.0, 0.0, 0.0, 0.0], [0.5000730752944946, 0.49992692470550537, 0.0, 0.0, 0.0, 0.0, 0.0, 0.0, 0.0], [0.34095048904418945, 0.3312041759490967, 0.32784536480903625, 0.0, 0.0, 0.0, 0.0, 0.0, 0.0], [0.25151169300079346, 0.2545835077762604, 0.23500414192676544, 0.2589007019996643, 0.0, 0.0, 0.0, 0.0, 0.0], [0.2062620222568512, 0.20324255526065826, 0.19036437571048737, 0.19919075071811676, 0.20094026625156403, 0.0, 0.0, 0.0, 0.0], [0.1649651676416397, 0.1698790341615677, 0.16576524078845978, 0.17015136778354645, 0.16700193285942078, 0.16223730146884918, 0.0, 0.0, 0.0], [0.1528274267911911, 0.1429891586303711, 0.14053764939308167, 0.1422833353281021, 0.1460503488779068, 0.13570718467235565, 0.13960495591163635, 0.0, 0.0], [0.1277613341808319, 0.12612727284431458, 0.1251782476902008, 0.13031211495399475, 0.12383203208446503, 0.11995390057563782, 0.1245371550321579, 0.12229788303375244, 0.0], [0.11003519594669342, 0.1227983832359314, 0.10902237147092819, 0.11003381013870239, 0.11376665532588959, 0.11112431436777115, 0.10338138788938522, 0.11145112663507462, 0.10838676244020462]], [[1.0, 0.0, 0.0, 0.0, 0.0, 0.0, 0.0, 0.0, 0.0], [0.5203142166137695, 0.47968578338623047, 0.0, 0.0, 0.0, 0.0, 0.0, 0.0, 0.0], [0.32388103008270264, 0.319714218378067, 0.35640478134155273, 0.0, 0.0, 0.0, 0.0, 0.0, 0.0], [0.2614322602748871, 0.2501336336135864, 0.25095197558403015, 0.23748214542865753, 0.0, 0.0, 0.0, 0.0, 0.0], [0.212258443236351, 0.1876969337463379, 0.19385837018489838, 0.20129957795143127, 0.20488665997982025, 0.0, 0.0, 0.0, 0.0], [0.17684276401996613, 0.16250912845134735, 0.1671576052904129, 0.15948401391506195, 0.17595045268535614, 0.15805606544017792, 0.0, 0.0, 0.0], [0.14119590818881989, 0.16032151877880096, 0.13379041850566864, 0.15505583584308624, 0.1350509226322174, 0.13211309909820557, 0.1424722671508789, 0.0, 0.0], [0.12948216497898102, 0.11965091526508331, 0.12998226284980774, 0.11775081604719162, 0.12034790217876434, 0.12911637127399445, 0.12867887318134308, 0.12499065697193146, 0.0], [0.10478659719228745, 0.10633460432291031, 0.11143315583467484, 0.10863754898309708, 0.11417080461978912, 0.12156078219413757, 0.11429017037153244, 0.10665865987539291, 0.11212767660617828]], [[1.0, 0.0, 0.0, 0.0, 0.0, 0.0, 0.0, 0.0, 0.0], [0.5264389514923096, 0.4735610783100128, 0.0, 0.0, 0.0, 0.0, 0.0, 0.0, 0.0], [0.321969211101532, 0.3339478075504303, 0.3440830111503601, 0.0, 0.0, 0.0, 0.0, 0.0, 0.0], [0.25736287236213684, 0.2423139363527298, 0.24755240976810455, 0.25277087092399597, 0.0, 0.0, 0.0, 0.0, 0.0], [0.20478543639183044, 0.21014711260795593, 0.20451326668262482, 0.19795310497283936, 0.18260107934474945, 0.0, 0.0, 0.0, 0.0], [0.17139671742916107, 0.1717025488615036, 0.17303141951560974, 0.15638644993305206, 0.1665685921907425, 0.16091430187225342, 0.0, 0.0, 0.0], [0.14744208753108978, 0.14738433063030243, 0.1424083560705185, 0.15177936851978302, 0.1430242508649826, 0.12956911325454712, 0.13839255273342133, 0.0, 0.0], [0.12544499337673187, 0.11714860796928406, 0.12738320231437683, 0.13384367525577545, 0.11613839864730835, 0.11481945216655731, 0.12763282656669617, 0.13758884370326996, 0.0], [0.1085405945777893, 0.11112284660339355, 0.11321533471345901, 0.11975501477718353, 0.1034674346446991, 0.10723207890987396, 0.11158330738544464, 0.11592894047498703, 0.10915444791316986]], [[1.0, 0.0, 0.0, 0.0, 0.0, 0.0, 0.0, 0.0, 0.0], [0.49740755558013916, 0.5025923848152161, 0.0, 0.0, 0.0, 0.0, 0.0, 0.0, 0.0], [0.32238149642944336, 0.35533207654953003, 0.3222864270210266, 0.0, 0.0, 0.0, 0.0, 0.0, 0.0], [0.26124703884124756, 0.24739156663417816, 0.2500655949115753, 0.24129581451416016, 0.0, 0.0, 0.0, 0.0, 0.0], [0.20358994603157043, 0.20120909810066223, 0.2013344019651413, 0.20494499802589417, 0.18892155587673187, 0.0, 0.0, 0.0, 0.0], [0.16828860342502594, 0.1719147264957428, 0.1606256365776062, 0.16513335704803467, 0.16687029600143433, 0.16716741025447845, 0.0, 0.0, 0.0], [0.1421283483505249, 0.14729194343090057, 0.13879957795143127, 0.1393057405948639, 0.14620642364025116, 0.14146004617214203, 0.14480791985988617, 0.0, 0.0], [0.11903858929872513, 0.13317884504795074, 0.12212812900543213, 0.1259411722421646, 0.12746651470661163, 0.12525363266468048, 0.1302015334367752, 0.11679158359766006, 0.0], [0.10481032729148865, 0.12019980698823929, 0.10930751264095306, 0.10768672823905945, 0.1073465421795845, 0.10613235086202621, 0.11651010066270828, 0.11115319281816483, 0.11685347557067871]]]], \"left_text\": [\"0\", \"1\", \"2\", \"3\", \"4\", \"5\", \"6\", \"7\", \"8\"], \"right_text\": [\"0\", \"1\", \"2\", \"3\", \"4\", \"5\", \"6\", \"7\", \"8\"]}], \"default_filter\": \"0\", \"display_mode\": \"dark\", \"root_div_id\": \"bertviz-530c9030cd2c40c0bbc99d0d703f9861\", \"include_layers\": [0], \"include_heads\": [0, 1, 2, 3, 4, 5, 6, 7], \"total_heads\": 8}; // HACK: {\"attention\": [{\"name\": null, \"attn\": [[[[1.0, 0.0, 0.0, 0.0, 0.0, 0.0, 0.0, 0.0, 0.0], [0.5264369249343872, 0.47356313467025757, 0.0, 0.0, 0.0, 0.0, 0.0, 0.0, 0.0], [0.3272859454154968, 0.3516283929347992, 0.321085661649704, 0.0, 0.0, 0.0, 0.0, 0.0, 0.0], [0.23624861240386963, 0.26521435379981995, 0.250397264957428, 0.24813972413539886, 0.0, 0.0, 0.0, 0.0, 0.0], [0.18821074068546295, 0.20369863510131836, 0.20024451613426208, 0.20836381614208221, 0.1994822770357132, 0.0, 0.0, 0.0, 0.0], [0.14784272015094757, 0.17710469663143158, 0.15613581240177155, 0.17273610830307007, 0.17153401672840118, 0.17464664578437805, 0.0, 0.0, 0.0], [0.13692328333854675, 0.15038038790225983, 0.13964268565177917, 0.14309069514274597, 0.13512848317623138, 0.14507941901683807, 0.14975494146347046, 0.0, 0.0], [0.10953576117753983, 0.1380876898765564, 0.12912054359912872, 0.1305502951145172, 0.1253024786710739, 0.1349557489156723, 0.11810729652643204, 0.11434013396501541, 0.0], [0.1068250834941864, 0.11148020625114441, 0.10700084269046783, 0.1133260726928711, 0.11507903039455414, 0.11728863418102264, 0.10723095387220383, 0.11224250495433807, 0.10952670872211456]], [[1.0, 0.0, 0.0, 0.0, 0.0, 0.0, 0.0, 0.0, 0.0], [0.5300877094268799, 0.4699123203754425, 0.0, 0.0, 0.0, 0.0, 0.0, 0.0, 0.0], [0.34527450799942017, 0.3256993591785431, 0.32902610301971436, 0.0, 0.0, 0.0, 0.0, 0.0, 0.0], [0.265036404132843, 0.24451223015785217, 0.2492266744375229, 0.24122464656829834, 0.0, 0.0, 0.0, 0.0, 0.0], [0.2038252055644989, 0.2015160769224167, 0.20007716119289398, 0.1946125626564026, 0.19996897876262665, 0.0, 0.0, 0.0, 0.0], [0.17391660809516907, 0.17557182908058167, 0.16989018023014069, 0.1656796783208847, 0.15984708070755005, 0.15509453415870667, 0.0, 0.0, 0.0], [0.15773795545101166, 0.14014418423175812, 0.14823748171329498, 0.1402737945318222, 0.13655322790145874, 0.1262546330690384, 0.15079878270626068, 0.0, 0.0], [0.12658008933067322, 0.1323663741350174, 0.12548419833183289, 0.12421925365924835, 0.12353590130805969, 0.12223047018051147, 0.11669017374515533, 0.1288936287164688, 0.0], [0.11692911386489868, 0.1064705103635788, 0.11497639119625092, 0.10932023078203201, 0.10672459751367569, 0.10634925216436386, 0.11356943100690842, 0.11373266577720642, 0.11192778497934341]], [[1.0, 0.0, 0.0, 0.0, 0.0, 0.0, 0.0, 0.0, 0.0], [0.49471208453178406, 0.5052878856658936, 0.0, 0.0, 0.0, 0.0, 0.0, 0.0, 0.0], [0.35693663358688354, 0.31227701902389526, 0.3307862877845764, 0.0, 0.0, 0.0, 0.0, 0.0, 0.0], [0.255873441696167, 0.23392891883850098, 0.24848701059818268, 0.26171061396598816, 0.0, 0.0, 0.0, 0.0, 0.0], [0.2019766867160797, 0.20252883434295654, 0.200914666056633, 0.20164750516414642, 0.1929323375225067, 0.0, 0.0, 0.0, 0.0], [0.1789722740650177, 0.15733441710472107, 0.17452062666416168, 0.17027205228805542, 0.1560855656862259, 0.16281504929065704, 0.0, 0.0, 0.0], [0.14171873033046722, 0.15194272994995117, 0.1522650271654129, 0.13806483149528503, 0.13777533173561096, 0.1367700845003128, 0.14146332442760468, 0.0, 0.0], [0.11956728249788284, 0.1247325912117958, 0.12487398833036423, 0.12221664935350418, 0.12987346947193146, 0.1269283890724182, 0.13002155721187592, 0.12178602814674377, 0.0], [0.10681169480085373, 0.11145339906215668, 0.11852461099624634, 0.11466444283723831, 0.10684031248092651, 0.10585648566484451, 0.11432082206010818, 0.10976824164390564, 0.11175995320081711]], [[1.0, 0.0, 0.0, 0.0, 0.0, 0.0, 0.0, 0.0, 0.0], [0.4874126613140106, 0.512587308883667, 0.0, 0.0, 0.0, 0.0, 0.0, 0.0, 0.0], [0.3353458344936371, 0.33327043056488037, 0.33138376474380493, 0.0, 0.0, 0.0, 0.0, 0.0, 0.0], [0.24268819391727448, 0.257353276014328, 0.2492976039648056, 0.25066089630126953, 0.0, 0.0, 0.0, 0.0, 0.0], [0.19072900712490082, 0.19837476313114166, 0.19328342378139496, 0.2080085575580597, 0.20960427820682526, 0.0, 0.0, 0.0, 0.0], [0.1692652404308319, 0.14844578504562378, 0.1643870770931244, 0.17805534601211548, 0.16467486321926117, 0.17517174780368805, 0.0, 0.0, 0.0], [0.1434617042541504, 0.13840851187705994, 0.15173906087875366, 0.13926434516906738, 0.13864126801490784, 0.1408354640007019, 0.14764966070652008, 0.0, 0.0], [0.11998387426137924, 0.11767473071813583, 0.1284530758857727, 0.12479473650455475, 0.13242067396640778, 0.12792213261127472, 0.12757542729377747, 0.12117534875869751, 0.0], [0.11041709780693054, 0.1157146692276001, 0.10824471712112427, 0.10505721718072891, 0.11304350197315216, 0.11257916688919067, 0.11435019224882126, 0.10716035217046738, 0.11343315243721008]], [[1.0, 0.0, 0.0, 0.0, 0.0, 0.0, 0.0, 0.0, 0.0], [0.5000730752944946, 0.49992692470550537, 0.0, 0.0, 0.0, 0.0, 0.0, 0.0, 0.0], [0.34095048904418945, 0.3312041759490967, 0.32784536480903625, 0.0, 0.0, 0.0, 0.0, 0.0, 0.0], [0.25151169300079346, 0.2545835077762604, 0.23500414192676544, 0.2589007019996643, 0.0, 0.0, 0.0, 0.0, 0.0], [0.2062620222568512, 0.20324255526065826, 0.19036437571048737, 0.19919075071811676, 0.20094026625156403, 0.0, 0.0, 0.0, 0.0], [0.1649651676416397, 0.1698790341615677, 0.16576524078845978, 0.17015136778354645, 0.16700193285942078, 0.16223730146884918, 0.0, 0.0, 0.0], [0.1528274267911911, 0.1429891586303711, 0.14053764939308167, 0.1422833353281021, 0.1460503488779068, 0.13570718467235565, 0.13960495591163635, 0.0, 0.0], [0.1277613341808319, 0.12612727284431458, 0.1251782476902008, 0.13031211495399475, 0.12383203208446503, 0.11995390057563782, 0.1245371550321579, 0.12229788303375244, 0.0], [0.11003519594669342, 0.1227983832359314, 0.10902237147092819, 0.11003381013870239, 0.11376665532588959, 0.11112431436777115, 0.10338138788938522, 0.11145112663507462, 0.10838676244020462]], [[1.0, 0.0, 0.0, 0.0, 0.0, 0.0, 0.0, 0.0, 0.0], [0.5203142166137695, 0.47968578338623047, 0.0, 0.0, 0.0, 0.0, 0.0, 0.0, 0.0], [0.32388103008270264, 0.319714218378067, 0.35640478134155273, 0.0, 0.0, 0.0, 0.0, 0.0, 0.0], [0.2614322602748871, 0.2501336336135864, 0.25095197558403015, 0.23748214542865753, 0.0, 0.0, 0.0, 0.0, 0.0], [0.212258443236351, 0.1876969337463379, 0.19385837018489838, 0.20129957795143127, 0.20488665997982025, 0.0, 0.0, 0.0, 0.0], [0.17684276401996613, 0.16250912845134735, 0.1671576052904129, 0.15948401391506195, 0.17595045268535614, 0.15805606544017792, 0.0, 0.0, 0.0], [0.14119590818881989, 0.16032151877880096, 0.13379041850566864, 0.15505583584308624, 0.1350509226322174, 0.13211309909820557, 0.1424722671508789, 0.0, 0.0], [0.12948216497898102, 0.11965091526508331, 0.12998226284980774, 0.11775081604719162, 0.12034790217876434, 0.12911637127399445, 0.12867887318134308, 0.12499065697193146, 0.0], [0.10478659719228745, 0.10633460432291031, 0.11143315583467484, 0.10863754898309708, 0.11417080461978912, 0.12156078219413757, 0.11429017037153244, 0.10665865987539291, 0.11212767660617828]], [[1.0, 0.0, 0.0, 0.0, 0.0, 0.0, 0.0, 0.0, 0.0], [0.5264389514923096, 0.4735610783100128, 0.0, 0.0, 0.0, 0.0, 0.0, 0.0, 0.0], [0.321969211101532, 0.3339478075504303, 0.3440830111503601, 0.0, 0.0, 0.0, 0.0, 0.0, 0.0], [0.25736287236213684, 0.2423139363527298, 0.24755240976810455, 0.25277087092399597, 0.0, 0.0, 0.0, 0.0, 0.0], [0.20478543639183044, 0.21014711260795593, 0.20451326668262482, 0.19795310497283936, 0.18260107934474945, 0.0, 0.0, 0.0, 0.0], [0.17139671742916107, 0.1717025488615036, 0.17303141951560974, 0.15638644993305206, 0.1665685921907425, 0.16091430187225342, 0.0, 0.0, 0.0], [0.14744208753108978, 0.14738433063030243, 0.1424083560705185, 0.15177936851978302, 0.1430242508649826, 0.12956911325454712, 0.13839255273342133, 0.0, 0.0], [0.12544499337673187, 0.11714860796928406, 0.12738320231437683, 0.13384367525577545, 0.11613839864730835, 0.11481945216655731, 0.12763282656669617, 0.13758884370326996, 0.0], [0.1085405945777893, 0.11112284660339355, 0.11321533471345901, 0.11975501477718353, 0.1034674346446991, 0.10723207890987396, 0.11158330738544464, 0.11592894047498703, 0.10915444791316986]], [[1.0, 0.0, 0.0, 0.0, 0.0, 0.0, 0.0, 0.0, 0.0], [0.49740755558013916, 0.5025923848152161, 0.0, 0.0, 0.0, 0.0, 0.0, 0.0, 0.0], [0.32238149642944336, 0.35533207654953003, 0.3222864270210266, 0.0, 0.0, 0.0, 0.0, 0.0, 0.0], [0.26124703884124756, 0.24739156663417816, 0.2500655949115753, 0.24129581451416016, 0.0, 0.0, 0.0, 0.0, 0.0], [0.20358994603157043, 0.20120909810066223, 0.2013344019651413, 0.20494499802589417, 0.18892155587673187, 0.0, 0.0, 0.0, 0.0], [0.16828860342502594, 0.1719147264957428, 0.1606256365776062, 0.16513335704803467, 0.16687029600143433, 0.16716741025447845, 0.0, 0.0, 0.0], [0.1421283483505249, 0.14729194343090057, 0.13879957795143127, 0.1393057405948639, 0.14620642364025116, 0.14146004617214203, 0.14480791985988617, 0.0, 0.0], [0.11903858929872513, 0.13317884504795074, 0.12212812900543213, 0.1259411722421646, 0.12746651470661163, 0.12525363266468048, 0.1302015334367752, 0.11679158359766006, 0.0], [0.10481032729148865, 0.12019980698823929, 0.10930751264095306, 0.10768672823905945, 0.1073465421795845, 0.10613235086202621, 0.11651010066270828, 0.11115319281816483, 0.11685347557067871]]]], \"left_text\": [\"0\", \"1\", \"2\", \"3\", \"4\", \"5\", \"6\", \"7\", \"8\"], \"right_text\": [\"0\", \"1\", \"2\", \"3\", \"4\", \"5\", \"6\", \"7\", \"8\"]}], \"default_filter\": \"0\", \"display_mode\": \"dark\", \"root_div_id\": \"bertviz-530c9030cd2c40c0bbc99d0d703f9861\", \"include_layers\": [0], \"include_heads\": [0, 1, 2, 3, 4, 5, 6, 7], \"total_heads\": 8} is a template marker that is replaced by actual params.\n        const config = {};\n\n        const MIN_X = 0;\n        const MIN_Y = 0;\n        const DIV_WIDTH = 970;\n        const THUMBNAIL_PADDING = 5;\n        const DETAIL_WIDTH = 300;\n        const DETAIL_ATTENTION_WIDTH = 140;\n        const DETAIL_BOX_WIDTH = 80;\n        const DETAIL_BOX_HEIGHT = 18;\n        const DETAIL_PADDING = 15;\n        const ATTN_PADDING = 0;\n        const DETAIL_HEADING_HEIGHT = 25;\n        const HEADING_TEXT_SIZE = 15;\n        const HEADING_PADDING = 5;\n        const TEXT_SIZE = 13;\n        const TEXT_PADDING = 5;\n        const LAYER_COLORS = d3.schemeCategory10;\n        const PALETTE = {\n            'light': {\n                'text': 'black',\n                'background': 'white',\n                'highlight': '#F5F5F5'\n            },\n            'dark': {\n                'text': '#ccc',\n                'background': 'black',\n                'highlight': '#222'\n            }\n        }\n\n        function render() {\n\n            // Set global state variables\n\n            var attData = config.attention[config.filter];\n            config.leftText = attData.left_text;\n            config.rightText = attData.right_text;\n            config.attn = attData.attn;\n            config.numLayers = config.attn.length;\n            config.numHeads = config.attn[0].length;\n            config.thumbnailBoxHeight = 7 * (12 / config.totalHeads);\n            const axisSize = HEADING_TEXT_SIZE + HEADING_PADDING + TEXT_SIZE + TEXT_PADDING;\n            config.thumbnailHeight = Math.max(config.leftText.length, config.rightText.length) * config.thumbnailBoxHeight + 2 * THUMBNAIL_PADDING;\n            config.thumbnailWidth = (DIV_WIDTH - axisSize) / config.totalHeads;\n            config.detailHeight = Math.max(config.leftText.length, config.rightText.length) * DETAIL_BOX_HEIGHT + 2 * DETAIL_PADDING + DETAIL_HEADING_HEIGHT;\n            config.divHeight = Math.max(config.numLayers * config.thumbnailHeight + axisSize, config.detailHeight);\n\n            const vis = $(`#${config.rootDivId} #vis`)\n            vis.empty();\n            vis.attr(\"height\", config.divHeight);\n            config.svg = d3.select(`#${config.rootDivId} #vis`)\n                .append('svg')\n                .attr(\"width\", DIV_WIDTH)\n                .attr(\"height\", config.divHeight)\n                .attr(\"fill\", getBackgroundColor());\n\n            renderAxisLabels();\n\n            var i;\n            var j;\n            for (i = 0; i < config.numLayers; i++) {\n                for (j = 0; j < config.numHeads; j++) {\n                    renderThumbnail(i, j);\n                }\n            }\n        }\n\n        function renderAxisLabels() {\n            const axisSize = HEADING_TEXT_SIZE + HEADING_PADDING + TEXT_SIZE + TEXT_PADDING;\n            const tableWidth = config.thumbnailWidth * config.heads.length;\n            config.svg.append(\"text\")\n                .text(\"Heads\")\n                .attr(\"fill\", \"black\")\n                .attr(\"font-weight\", \"bold\")\n                .attr(\"font-size\", HEADING_TEXT_SIZE + \"px\")\n                .attr(\"x\", axisSize + tableWidth / 2)\n                .attr(\"text-anchor\", \"middle\")\n                .attr(\"y\", 0)\n                .attr(\"dy\", HEADING_TEXT_SIZE);\n            for (let i = 0; i < config.numHeads; i++) {\n                config.svg.append(\"text\")\n                    .text(config.heads[i])\n                    .attr(\"fill\", \"black\")\n                    .attr(\"font-size\", TEXT_SIZE + \"px\")\n                    .attr(\"x\", axisSize + (i + .5) * config.thumbnailWidth)\n                    .attr(\"text-anchor\", \"middle\")\n                    .attr(\"y\", HEADING_TEXT_SIZE + HEADING_PADDING)\n                    .attr(\"dy\", TEXT_SIZE);\n            }\n            let x = 0;\n            let y = axisSize + config.thumbnailHeight * config.layers.length / 2;\n            console.log(\"x\", x, y)\n            config.svg.append(\"text\")\n                .text(\"Layers\")\n                .attr(\"fill\", \"black\")\n                .attr(\"font-weight\", \"bold\")\n                .attr(\"transform\", \"rotate(270, \" + x  + \", \" + y + \")\")\n                .attr(\"font-size\", HEADING_TEXT_SIZE + \"px\")\n                .attr(\"x\", x)\n                .attr(\"text-anchor\", \"middle\")\n                .attr(\"y\", y)\n                .attr(\"dy\", HEADING_TEXT_SIZE);\n            for (let i = 0; i < config.numLayers; i++) {\n                x = HEADING_TEXT_SIZE + HEADING_PADDING + TEXT_SIZE; // HACK\n                y = axisSize + (i + .5) * config.thumbnailHeight;\n                config.svg.append(\"text\")\n                    .text(config.layers[i])\n                    .attr(\"fill\", \"black\")\n                    .attr(\"font-size\", TEXT_SIZE + \"px\")\n                    .attr(\"x\", x)\n                    .attr(\"text-anchor\", \"end\")\n                    .attr(\"y\", y)\n                    .attr(\"dy\", TEXT_SIZE / 2);\n            }\n        }\n\n\n        function renderThumbnail(layerIndex, headIndex) {\n            const axisSize = HEADING_TEXT_SIZE + HEADING_PADDING + TEXT_SIZE + TEXT_PADDING\n            const x = headIndex * config.thumbnailWidth + axisSize;\n            const y = layerIndex * config.thumbnailHeight + axisSize;\n            renderThumbnailAttn(x, y, config.attn[layerIndex][headIndex], layerIndex, headIndex);\n        }\n\n        function renderDetail(att, layerIndex, headIndex) {\n            const axisSize = TEXT_SIZE + HEADING_PADDING + TEXT_SIZE + TEXT_PADDING;\n            var xOffset = .8 * config.thumbnailWidth;\n            var maxX = DIV_WIDTH;\n            var maxY = config.divHeight - 3;\n            var leftPos = axisSize + headIndex * config.thumbnailWidth;\n            var x = leftPos + THUMBNAIL_PADDING + xOffset;\n            if (x < MIN_X) {\n                x = MIN_X;\n            } else if (x + DETAIL_WIDTH > maxX) {\n                x = leftPos + THUMBNAIL_PADDING - DETAIL_WIDTH + 8;\n            }\n            var posLeftText = x;\n            var posAttention = posLeftText + DETAIL_BOX_WIDTH;\n            var posRightText = posAttention + DETAIL_ATTENTION_WIDTH;\n            var thumbnailHeight = Math.max(config.leftText.length, config.rightText.length) * config.thumbnailBoxHeight + 2 * THUMBNAIL_PADDING;\n            var yOffset = 20;\n            var y = layerIndex * thumbnailHeight + THUMBNAIL_PADDING + yOffset;\n            if (y < MIN_Y) {\n                y = MIN_Y;\n            } else if (y + config.detailHeight > maxY) {\n                y = maxY - config.detailHeight;\n            }\n            renderDetailFrame(x, y, layerIndex);\n            y = y + DETAIL_PADDING;\n            renderDetailHeading(x, y, layerIndex, headIndex);\n            y = y + DETAIL_HEADING_HEIGHT;\n            renderDetailText(config.leftText, \"leftText\", posLeftText, y , layerIndex);\n            renderDetailAttn(posAttention, y, att, layerIndex, headIndex);\n            renderDetailText(config.rightText, \"rightText\", posRightText, y, layerIndex);\n        }\n\n        function renderDetailHeading(x, y, layerIndex, headIndex) {\n            var fillColor = getTextColor();\n            config.svg.append(\"text\")\n                .classed(\"detail\", true)\n                .text('Layer ' + config.layers[layerIndex] + \", Head \" + config.heads[headIndex])\n                .attr(\"font-size\", TEXT_SIZE + \"px\")\n                .attr(\"font-weight\", \"bold\")\n                .style(\"cursor\", \"default\")\n                .style(\"-webkit-user-select\", \"none\")\n                .attr(\"fill\", fillColor)\n                .attr(\"x\", x + DETAIL_WIDTH / 2)\n                .attr(\"text-anchor\", \"middle\")\n                .attr(\"y\", y)\n                .attr(\"height\", DETAIL_HEADING_HEIGHT)\n                .attr(\"width\", DETAIL_WIDTH)\n                .attr(\"dy\", HEADING_TEXT_SIZE);\n        }\n\n        function renderDetailText(text, id, x, y, layerIndex) {\n            var tokenContainer = config.svg.append(\"svg:g\")\n                .classed(\"detail\", true)\n                .selectAll(\"g\")\n                .data(text)\n                .enter()\n                .append(\"g\");\n\n            var fillColor = getTextColor();\n\n            tokenContainer.append(\"rect\")\n                .classed(\"highlight\", true)\n                .attr(\"fill\", fillColor)\n                .style(\"opacity\", 0.0)\n                .attr(\"height\", DETAIL_BOX_HEIGHT)\n                .attr(\"width\", DETAIL_BOX_WIDTH)\n                .attr(\"x\", x)\n                .attr(\"y\", function (d, i) {\n                    return y + i * DETAIL_BOX_HEIGHT;\n                });\n\n            var textContainer = tokenContainer.append(\"text\")\n                .classed(\"token\", true)\n                .text(function (d) {\n                    return d;\n                })\n                .attr(\"font-size\", TEXT_SIZE + \"px\")\n                .style(\"cursor\", \"default\")\n                .style(\"-webkit-user-select\", \"none\")\n                .attr(\"fill\", fillColor)\n                .attr(\"x\", x)\n                .attr(\"y\", function (d, i) {\n                    return i * DETAIL_BOX_HEIGHT + y;\n                })\n                .attr(\"height\", DETAIL_BOX_HEIGHT)\n                .attr(\"width\", DETAIL_BOX_WIDTH)\n                .attr(\"dy\", TEXT_SIZE);\n\n            if (id == \"leftText\") {\n                textContainer.style(\"text-anchor\", \"end\")\n                    .attr(\"dx\", DETAIL_BOX_WIDTH - 2);\n                tokenContainer.on(\"mouseover\", function (d, index) {\n                    highlightSelection(index);\n                });\n                tokenContainer.on(\"mouseleave\", function () {\n                    unhighlightSelection();\n                });\n            }\n        }\n\n        function highlightSelection(index) {\n            config.svg.select(\"#leftText\")\n                .selectAll(\".highlight\")\n                .style(\"opacity\", function (d, i) {\n                    return i == index ? 1.0 : 0.0;\n                });\n            config.svg.selectAll(\".attn-line-group\")\n                .style(\"opacity\", function (d, i) {\n                    return i == index ? 1.0 : 0.0;\n                });\n        }\n\n        function unhighlightSelection() {\n            config.svg.select(\"#leftText\")\n                .selectAll(\".highlight\")\n                .style(\"opacity\", 0.0);\n            config.svg.selectAll(\".attn-line-group\")\n                .style(\"opacity\", 1);\n        }\n\n        function renderThumbnailAttn(x, y, att, layerIndex, headIndex) {\n\n            var attnContainer = config.svg.append(\"svg:g\");\n\n            var attnBackground = attnContainer.append(\"rect\")\n                .attr(\"id\", 'attn_background_' + layerIndex + \"_\" + headIndex)\n                .classed(\"attn_background\", true)\n                .attr(\"x\", x)\n                .attr(\"y\", y)\n                .attr(\"height\", config.thumbnailHeight)\n                .attr(\"width\", config.thumbnailWidth)\n                .attr(\"stroke-width\", 2)\n                .attr(\"stroke\", getLayerColor(layerIndex))\n                .attr(\"stroke-opacity\", 0)\n                .attr(\"fill\", getBackgroundColor());\n            var x1 = x + THUMBNAIL_PADDING;\n            var x2 = x1 + config.thumbnailWidth - 14;\n            var y1 = y + THUMBNAIL_PADDING;\n\n            attnContainer.selectAll(\"g\")\n                .data(att)\n                .enter()\n                .append(\"g\") // Add group for each source token\n                .attr(\"source-index\", function (d, i) { // Save index of source token\n                    return i;\n                })\n                .selectAll(\"line\")\n                .data(function (d) { // Loop over all target tokens\n                    return d;\n                })\n                .enter() // When entering\n                .append(\"line\")\n                .attr(\"x1\", x1)\n                .attr(\"y1\", function (d) {\n                    var sourceIndex = +this.parentNode.getAttribute(\"source-index\");\n                    return y1 + (sourceIndex + .5) * config.thumbnailBoxHeight;\n                })\n                .attr(\"x2\", x2)\n                .attr(\"y2\", function (d, targetIndex) {\n                    return y1 + (targetIndex + .5) * config.thumbnailBoxHeight;\n                })\n                .attr(\"stroke-width\", 2.2)\n                .attr(\"stroke\", getLayerColor(layerIndex))\n                .attr(\"stroke-opacity\", function (d) {\n                    return d;\n                });\n\n            var clickRegion = attnContainer.append(\"rect\")\n                .attr(\"x\", x)\n                .attr(\"y\", y)\n                .attr(\"height\", config.thumbnailHeight)\n                .attr(\"width\", config.thumbnailWidth)\n                .style(\"opacity\", 0);\n\n            clickRegion.on(\"click\", function (d, index) {\n                var attnBackgroundOther = config.svg.selectAll(\".attn_background\");\n                attnBackgroundOther.attr(\"fill\", getBackgroundColor());\n                attnBackgroundOther.attr(\"stroke-opacity\", 0);\n\n                config.svg.selectAll(\".detail\").remove();\n                if (config.detail_layer != layerIndex || config.detail_head != headIndex) {\n                    renderDetail(att, layerIndex, headIndex);\n                    config.detail_layer = layerIndex;\n                    config.detail_head = headIndex;\n                    attnBackground.attr(\"fill\", getHighlightColor());\n                    attnBackground.attr(\"stroke-opacity\", .8);\n                } else {\n                    config.detail_layer = null;\n                    config.detail_head = null;\n                    attnBackground.attr(\"fill\", getBackgroundColor());\n                    attnBackground.attr(\"stroke-opacity\", 0);\n                }\n            });\n\n            clickRegion.on(\"mouseover\", function (d) {\n                d3.select(this).style(\"cursor\", \"pointer\");\n            });\n        }\n\n        function renderDetailFrame(x, y, layerIndex) {\n            var detailFrame = config.svg.append(\"rect\")\n                .classed(\"detail\", true)\n                .attr(\"x\", x)\n                .attr(\"y\", y)\n                .attr(\"height\", config.detailHeight)\n                .attr(\"width\", DETAIL_WIDTH)\n                .style(\"opacity\", 1)\n                .attr(\"stroke-width\", 1.5)\n                .attr(\"stroke-opacity\", 0.7)\n                .attr(\"stroke\", getLayerColor(layerIndex));\n        }\n\n        function renderDetailAttn(x, y, att, layerIndex) {\n            var attnContainer = config.svg.append(\"svg:g\")\n                .classed(\"detail\", true)\n                .attr(\"pointer-events\", \"none\");\n            attnContainer.selectAll(\"g\")\n                .data(att)\n                .enter()\n                .append(\"g\") // Add group for each source token\n                .classed('attn-line-group', true)\n                .attr(\"source-index\", function (d, i) { // Save index of source token\n                    return i;\n                })\n                .selectAll(\"line\")\n                .data(function (d) { // Loop over all target tokens\n                    return d;\n                })\n                .enter()\n                .append(\"line\")\n                .attr(\"x1\", x + ATTN_PADDING)\n                .attr(\"y1\", function (d) {\n                    var sourceIndex = +this.parentNode.getAttribute(\"source-index\");\n                    return y + (sourceIndex + .5) * DETAIL_BOX_HEIGHT;\n                })\n                .attr(\"x2\", x + DETAIL_ATTENTION_WIDTH - ATTN_PADDING)\n                .attr(\"y2\", function (d, targetIndex) {\n                    return y + (targetIndex + .5) * DETAIL_BOX_HEIGHT;\n                })\n                .attr(\"stroke-width\", 2.2)\n                .attr(\"stroke\", getLayerColor(layerIndex))\n                .attr(\"stroke-opacity\", function (d) {\n                    return d;\n                });\n        }\n\n        function getLayerColor(layer) {\n          return LAYER_COLORS[config.layers[layer] % 10];\n        }\n\n        function getTextColor() {\n            return PALETTE[config.mode]['text']\n        }\n\n        function getBackgroundColor() {\n           return PALETTE[config.mode]['background']\n        }\n\n        function getHighlightColor() {\n           return PALETTE[config.mode]['highlight']\n        }\n\n        function initialize() {\n            config.attention = params['attention'];\n            config.filter = params['default_filter'];\n            config.mode = params['display_mode'];\n            config.layers = params['include_layers']\n            config.heads = params['include_heads']\n            config.totalHeads = params['total_heads']\n            config.rootDivId = params['root_div_id'];\n            $(`#${config.rootDivId} #filter`).on('change', function (e) {\n                config.filter = e.currentTarget.value;\n                render();\n            });\n        }\n\n        initialize();\n        render();\n\n    });",
      "text/plain": [
       "<IPython.core.display.Javascript object>"
      ]
     },
     "metadata": {},
     "output_type": "display_data"
    }
   ],
   "source": [
    "model_view([att[:1, 0]], tokens=list(map(str, range(9))))"
   ]
  }
 ],
 "metadata": {
  "kernelspec": {
   "display_name": "ML12",
   "language": "python",
   "name": "python3"
  },
  "language_info": {
   "codemirror_mode": {
    "name": "ipython",
    "version": 3
   },
   "file_extension": ".py",
   "mimetype": "text/x-python",
   "name": "python",
   "nbconvert_exporter": "python",
   "pygments_lexer": "ipython3",
   "version": "3.12.2"
  }
 },
 "nbformat": 4,
 "nbformat_minor": 2
}
